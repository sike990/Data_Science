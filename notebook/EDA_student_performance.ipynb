{
 "cells": [
  {
   "cell_type": "markdown",
   "id": "3e9d0307",
   "metadata": {},
   "source": [
    "#Getting general insights from the data"
   ]
  },
  {
   "cell_type": "code",
   "execution_count": null,
   "id": "99c7c5f6",
   "metadata": {
    "vscode": {
     "languageId": "plaintext"
    }
   },
   "outputs": [],
   "source": [
    "!pwd"
   ]
  }
 ],
 "metadata": {
  "language_info": {
   "name": "python"
  }
 },
 "nbformat": 4,
 "nbformat_minor": 5
}
